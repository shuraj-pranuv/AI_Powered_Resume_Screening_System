{
 "cells": [
  {
   "cell_type": "markdown",
   "metadata": {},
   "source": [
    "RESUME EXTRACTOR CLASS"
   ]
  },
  {
   "cell_type": "code",
   "execution_count": 23,
   "metadata": {},
   "outputs": [
    {
     "name": "stdout",
     "output_type": "stream",
     "text": [
      "\n",
      "Resume Data:\n",
      "  Email: hello@reallygreatsite.com\n",
      "  Phone: +123-456-7890\n",
      "  Skills:\n",
      "    - Process Improvement\n",
      "    - Data-driven Strategic Planning\n",
      "    - Cost-Benefit Analysis\n",
      "    - Report Writing\n",
      "    - Critical Thinking\n",
      "    - Communication Skills\n",
      "    - Interpersonal Skills\n",
      "    - Project Management\n",
      "  Experience: 4.5 years\n"
     ]
    }
   ],
   "source": [
    "import pdfplumber\n",
    "import re\n",
    "import docx2txt\n",
    "from datetime import datetime\n",
    "\n",
    "class ResumeExtractor:\n",
    "    def __init__(self, file_path):\n",
    "        self.file_path = file_path\n",
    "        self.text = self.extract_text()\n",
    "\n",
    "    def extract_text(self):\n",
    "        if self.file_path.endswith(\".pdf\"):\n",
    "            with pdfplumber.open(self.file_path) as pdf:\n",
    "                return \" \".join(page.extract_text() for page in pdf.pages if page.extract_text())\n",
    "        elif self.file_path.endswith(\".docx\"):\n",
    "            return docx2txt.process(self.file_path)\n",
    "        raise ValueError(\"Unsupported file format. Use PDF or DOCX.\")\n",
    "\n",
    "    def extract_email(self):\n",
    "        match = re.search(r'[\\w\\.-]+@[\\w\\.-]+', self.text)\n",
    "        return match.group(0) if match else None\n",
    "\n",
    "    def extract_phone(self):\n",
    "        match = re.search(r'\\+?\\d[\\d -]{8,}\\d', self.text)\n",
    "        return match.group(0) if match else None\n",
    "\n",
    "    def extract_skills(self, predefined_skills):\n",
    "        return [skill for skill in predefined_skills if skill.lower() in self.text.lower()]\n",
    "\n",
    "    def extract_date(self, date_str):\n",
    "        for fmt in [\"%B %Y\", \"%b %Y\"]:\n",
    "            try:\n",
    "                return datetime.strptime(date_str.strip(), fmt)\n",
    "            except ValueError:\n",
    "                continue\n",
    "        raise ValueError(f\"Invalid date format: {date_str}\")\n",
    "\n",
    "    def extract_experience(self):\n",
    "        matches = re.findall(r'([A-Za-z]+\\s*\\d{4})\\s*-\\s*([A-Za-z]+\\s*\\d{4}|Present)', self.text)\n",
    "        total_months, now = 0, datetime.now()\n",
    "\n",
    "        for start, end in matches:\n",
    "            try:\n",
    "                start_date = self.extract_date(start)\n",
    "                end_date = now if \"Present\" in end else self.extract_date(end)\n",
    "                total_months += (end_date.year - start_date.year) * 12 + (end_date.month - start_date.month)\n",
    "            except ValueError:\n",
    "                continue\n",
    "\n",
    "        return round(total_months / 12, 1)\n",
    "\n",
    "    def extract_details(self, predefined_skills):\n",
    "        return {\n",
    "            \"email\": self.extract_email(),\n",
    "            \"phone\": self.extract_phone(),\n",
    "            \"skills\": self.extract_skills(predefined_skills),\n",
    "            \"experience\": self.extract_experience()\n",
    "        }\n",
    "\n",
    "if __name__ == \"__main__\":\n",
    "    file_path = \"C:/Users/shuraj/Downloads/Black and White Simple Business School Graduate Corporate Resume.pdf\"\n",
    "    predefined_skills = [\n",
    "        \"Process Improvement\", \"Data-driven Strategic Planning\", \"Cost-Benefit Analysis\",\n",
    "        \"Report Writing\", \"Critical Thinking\", \"Communication Skills\", \"Interpersonal Skills\",\n",
    "        \"Project Management\", \"Organizational Skills\"\n",
    "    ]\n",
    "\n",
    "    resume_data = ResumeExtractor(file_path).extract_details(predefined_skills)\n",
    "\n",
    "    print(\"\\nResume Data:\")\n",
    "    print(f\"  Email: {resume_data['email']}\")\n",
    "    print(f\"  Phone: {resume_data['phone']}\")\n",
    "    print(\"  Skills:\")\n",
    "    for skill in resume_data[\"skills\"]:\n",
    "        print(f\"    - {skill}\")\n",
    "    print(f\"  Experience: {resume_data['experience']} years\")\n"
   ]
  },
  {
   "cell_type": "markdown",
   "metadata": {},
   "source": [
    "JOB DESCRIPTION CLASS"
   ]
  },
  {
   "cell_type": "code",
   "execution_count": 5,
   "metadata": {},
   "outputs": [
    {
     "name": "stdout",
     "output_type": "stream",
     "text": [
      "\n",
      "Resume Data:\n",
      "  Email: hello@reallygreatsite.com\n",
      "  Phone: +123-456-7890\n",
      "  Skills:\n",
      "    - Process Improvement\n",
      "    - Data-driven Strategic Planning\n",
      "    - Cost-Benefit Analysis\n",
      "    - Report Writing\n",
      "    - Critical Thinking\n",
      "    - Communication Skills\n",
      "    - Interpersonal Skills\n",
      "    - Project Management\n",
      "  Experience: 4.5 years\n",
      "\n",
      "Job Description:\n",
      "  Title: Business Analyst\n",
      "  Required Skills:\n",
      "    - Process Improvement\n",
      "    - Data-driven Strategic Planning\n",
      "    - Cost-Benefit Analysis\n",
      "    - Report Writing\n",
      "    - Critical Thinking\n",
      "    - Communication Skills\n",
      "    - Interpersonal Skills\n",
      "    - Project Management\n",
      "    - Organizational Skills\n",
      "  Minimum Experience: 2 years\n"
     ]
    }
   ],
   "source": [
    "class JobExtractor:\n",
    "    def __init__(self, title, required_skills, min_experience):\n",
    "        self.title = title\n",
    "        self.required_skills = required_skills\n",
    "        self.min_experience = min_experience\n",
    "\n",
    "    def extract_requirements(self):\n",
    "        return {\n",
    "            \"title\": self.title,\n",
    "            \"required_skills\": self.required_skills,\n",
    "            \"min_experience\": self.min_experience\n",
    "        }\n",
    "\n",
    "if __name__ == \"__main__\":\n",
    "    file_path = \"C:/Users/shuraj/Downloads/Black and White Simple Business School Graduate Corporate Resume.pdf\"\n",
    "    predefined_skills = [\n",
    "        \"Process Improvement\", \"Data-driven Strategic Planning\", \"Cost-Benefit Analysis\",\n",
    "        \"Report Writing\", \"Critical Thinking\", \"Communication Skills\", \"Interpersonal Skills\",\n",
    "        \"Project Management\", \"Organizational Skills\"]\n",
    "\n",
    "    resume_data = ResumeExtractor(file_path).extract_details(predefined_skills)\n",
    "    job_data = JobExtractor(\n",
    "        \"Business Analyst\",\n",
    "        [\n",
    "            \"Process Improvement\", \"Data-driven Strategic Planning\", \"Cost-Benefit Analysis\",\n",
    "            \"Report Writing\", \"Critical Thinking\", \"Communication Skills\", \"Interpersonal Skills\",\n",
    "            \"Project Management\", \"Organizational Skills\"],2).extract_requirements()\n",
    "\n",
    "    print(\"\\nResume Data:\")\n",
    "    print(f\"  Email: {resume_data['email']}\")\n",
    "    print(f\"  Phone: {resume_data['phone']}\")\n",
    "    print(\"  Skills:\")\n",
    "    for skill in resume_data[\"skills\"]:\n",
    "        print(f\"    - {skill}\")\n",
    "    print(f\"  Experience: {resume_data['experience']} years\")\n",
    "\n",
    "    print(\"\\nJob Description:\")\n",
    "    print(f\"  Title: {job_data['title']}\")\n",
    "    print(\"  Required Skills:\")\n",
    "    for skill in job_data[\"required_skills\"]:\n",
    "        print(f\"    - {skill}\")\n",
    "    print(f\"  Minimum Experience: {job_data['min_experience']} years\")\n"
   ]
  },
  {
   "cell_type": "markdown",
   "metadata": {},
   "source": [
    "RESUME SCORER CLASS"
   ]
  },
  {
   "cell_type": "code",
   "execution_count": 8,
   "metadata": {},
   "outputs": [
    {
     "name": "stdout",
     "output_type": "stream",
     "text": [
      "\n",
      "Resume Match Score: 16.81%\n"
     ]
    },
    {
     "data": {
      "image/png": "[encoded data removed]",
      "text/plain": [
       "<Figure size 500x400 with 1 Axes>"
      ]
     },
     "metadata": {},
     "output_type": "display_data"
    }
   ],
   "source": [
    "from sklearn.feature_extraction.text import TfidfVectorizer\n",
    "from sklearn.metrics.pairwise import cosine_similarity\n",
    "import numpy as np\n",
    "import matplotlib.pyplot as plt\n",
    "\n",
    "class ResumeScorer:\n",
    "    def __init__(self, file_path, predefined_skills, job_description):\n",
    "        self.resume_extractor = ResumeExtractor(file_path)\n",
    "        self.skills_list = predefined_skills\n",
    "        self.job_description = job_description\n",
    "\n",
    "    def compute_similarity(self):\n",
    "        resume_details = self.resume_extractor.extract_details(self.skills_list)\n",
    "        resume_text = \" \".join(resume_details[\"skills\"])  # Convert skills list to string\n",
    "\n",
    "        vectorizer = TfidfVectorizer()\n",
    "        documents = [resume_text, self.job_description]\n",
    "        tfidf_matrix = vectorizer.fit_transform(documents)\n",
    "        similarity_score = cosine_similarity(tfidf_matrix)[0, 1]\n",
    "\n",
    "        return round(similarity_score * 100, 2)  # Convert to percentage\n",
    "\n",
    "    def plot_similarity(self):\n",
    "        score = self.compute_similarity()\n",
    "        plt.figure(figsize=(5, 4))\n",
    "        plt.bar([\"Resume Match\"], [score], color=['#ffcc00'])\n",
    "        plt.ylim(0, 100)\n",
    "        plt.title(\"Resume Similarity Score\")\n",
    "        plt.ylabel(\"Similarity (%)\")\n",
    "        plt.show()\n",
    "\n",
    "# Example Usage\n",
    "if __name__ == \"__main__\":\n",
    "    job_desc = \"Looking for a Business Analyst with expertise in Process Improvement, Data Analysis, and Project Management.\"\n",
    "    file_path = \"C:/Users/shuraj/Downloads/Black and White Simple Business School Graduate Corporate Resume.pdf\"\n",
    "    \n",
    "    predefined_skills = [\n",
    "        \"Process Improvement\", \"Data-driven Strategic Planning\", \"Machine Learning\",\n",
    "        \"Report Writing\", \"Organizational Skills\"\n",
    "    ]\n",
    "\n",
    "    resume_scorer = ResumeScorer(file_path, predefined_skills, job_desc)\n",
    "    match_score = resume_scorer.compute_similarity()\n",
    "    \n",
    "    print(f\"\\nResume Match Score: {match_score}%\")\n",
    "    resume_scorer.plot_similarity()\n"
   ]
  },
  {
   "cell_type": "markdown",
   "metadata": {},
   "source": [
    "RESUME SCORER FOR MULTIPLE CANDIDATES"
   ]
  },
  {
   "cell_type": "code",
   "execution_count": 21,
   "metadata": {},
   "outputs": [
    {
     "name": "stdout",
     "output_type": "stream",
     "text": [
      "\n",
      "Ranked Candidates:\n",
      "  Candidate 1: 26.53% match\n",
      "  Candidate 2: 15.85% match\n",
      "  Candidate 3: 0.0% match\n",
      "Report saved as shortlisted_candidates.csv\n"
     ]
    },
    {
     "data": {
      "image/png": "[encoded data removed]",
      "text/plain": [
       "<Figure size 800x500 with 1 Axes>"
      ]
     },
     "metadata": {},
     "output_type": "display_data"
    }
   ],
   "source": [
    "from sklearn.feature_extraction.text import TfidfVectorizer\n",
    "from sklearn.metrics.pairwise import cosine_similarity\n",
    "import pandas as pd\n",
    "import matplotlib.pyplot as plt\n",
    "\n",
    "class ResumeScorer:\n",
    "    def __init__(self, job_description):\n",
    "        self.job_description = job_description\n",
    "\n",
    "    def compute_similarity(self, resume_texts):\n",
    "        if not resume_texts:\n",
    "            return []  # Return empty list if no resumes are provided\n",
    "\n",
    "        documents = [self.job_description] + resume_texts\n",
    "        vectorizer = TfidfVectorizer()\n",
    "        tfidf_matrix = vectorizer.fit_transform(documents)\n",
    "        similarity_scores = cosine_similarity(tfidf_matrix[0:1], tfidf_matrix[1:])[0]\n",
    "        return similarity_scores\n",
    "\n",
    "    def rank_candidates(self, candidates):\n",
    "        if not candidates:\n",
    "            print(\"No candidates provided.\")\n",
    "            return []\n",
    "\n",
    "        candidate_texts = [\" \".join(candidate.get(\"skills\", [])) for candidate in candidates]\n",
    "        scores = self.compute_similarity(candidate_texts)\n",
    "\n",
    "        for i, candidate in enumerate(candidates):\n",
    "            candidate[\"score\"] = round(scores[i] * 100, 2) if i < len(scores) else 0  # Avoid index error\n",
    "\n",
    "        return sorted(candidates, key=lambda x: x[\"score\"], reverse=True)\n",
    "\n",
    "    def generate_report(self, ranked_candidates):\n",
    "        if not ranked_candidates:\n",
    "            print(\"No candidates to generate a report for.\")\n",
    "            return\n",
    "\n",
    "        df = pd.DataFrame(ranked_candidates)\n",
    "        df.to_csv(\"shortlisted_candidates.csv\", index=False)\n",
    "        print(\"Report saved as shortlisted_candidates.csv\")\n",
    "\n",
    "        # Plot Bar Chart\n",
    "        names = [f\"Candidate {i+1}\" for i in range(len(ranked_candidates))]\n",
    "        scores = [candidate[\"score\"] for candidate in ranked_candidates]\n",
    "        plt.figure(figsize=(8, 5))\n",
    "        plt.barh(names, scores, color='skyblue')\n",
    "        plt.xlabel(\"Match Score (%)\")\n",
    "        plt.title(\"Candidate Ranking\")\n",
    "        plt.gca().invert_yaxis()  # Highest score on top\n",
    "        plt.show()\n",
    "\n",
    "# Example Usage\n",
    "if __name__ == \"__main__\":\n",
    "    job_description = \"Looking for a Business Analyst with expertise in Process Improvement, Data Analysis, and Project Management.\"\n",
    "    \n",
    "    candidates = [\n",
    "        {\"skills\": [\"Process Improvement\", \"Data-driven Strategic Planning\", \"Cost-Benefit Analysis\"]},\n",
    "        {\"skills\": [\"Critical Thinking\", \"Communication Skills\", \"Project Management\"]},\n",
    "        {\"skills\": [\"Python\", \"Machine Learning\"]}  # This candidate is irrelevant and should score lower\n",
    "    ]\n",
    "\n",
    "    scorer = ResumeScorer(job_description)\n",
    "    ranked_candidates = scorer.rank_candidates(candidates)\n",
    "\n",
    "    print(\"\\nRanked Candidates:\")\n",
    "    for i, candidate in enumerate(ranked_candidates, start=1):\n",
    "        print(f\"  Candidate {i}: {candidate['score']}% match\")\n",
    "\n",
    "    scorer.generate_report(ranked_candidates)\n"
   ]
  },
  {
   "cell_type": "code",
   "execution_count": null,
   "metadata": {},
   "outputs": [],
   "source": [
    "CREATING DASHBOARD (INPUTS GIVEN)"
   ]
  },
  {
   "cell_type": "code",
   "execution_count": 13,
   "metadata": {},
   "outputs": [
    {
     "data": {
      "text/html": [
       "\n",
       "        <iframe\n",
       "            width=\"100%\"\n",
       "            height=\"650\"\n",
       "            src=\"http://127.0.0.1:8050/\"\n",
       "            frameborder=\"0\"\n",
       "            allowfullscreen\n",
       "            \n",
       "        ></iframe>\n",
       "        "
      ],
      "text/plain": [
       "<IPython.lib.display.IFrame at 0x1ff2ec13cb0>"
      ]
     },
     "metadata": {},
     "output_type": "display_data"
    }
   ],
   "source": [
    "import dash\n",
    "from dash import dcc, html, Input, Output\n",
    "import pandas as pd\n",
    "import plotly.express as px\n",
    "\n",
    "# Sample ranked candidate data\n",
    "data = {\n",
    "    \"Candidate\": [\"Alice\", \"Bob\", \"Charlie\", \"David\"],\n",
    "    \"Score\": [95, 90, 85, 80],\n",
    "    \"Skills Matched\": [7, 6, 5, 4],\n",
    "}\n",
    "df = pd.DataFrame(data)\n",
    "\n",
    "# Initialize Dash app\n",
    "app = dash.Dash(__name__)\n",
    "\n",
    "app.layout = html.Div([\n",
    "    html.H1(\"AI Resume Screener Dashboard\"),\n",
    "    dcc.Graph(id=\"score-bar-chart\"),\n",
    "    dcc.Dropdown(\n",
    "        id=\"candidate-dropdown\",\n",
    "        options=[{\"label\": i, \"value\": i} for i in df[\"Candidate\"]],\n",
    "        value=\"Alice\",\n",
    "    ),\n",
    "    html.Div(id=\"candidate-info\"),\n",
    "])\n",
    "\n",
    "@app.callback(\n",
    "    Output(\"score-bar-chart\", \"figure\"),\n",
    "    Output(\"candidate-info\", \"children\"),\n",
    "    Input(\"candidate-dropdown\", \"value\")\n",
    ")\n",
    "def update_graph(selected_candidate):\n",
    "    fig = px.bar(df, x=\"Candidate\", y=\"Score\", title=\"Candidate Scores\")\n",
    "    selected_row = df[df[\"Candidate\"] == selected_candidate].iloc[0]\n",
    "    info = f\"{selected_candidate} matched {selected_row['Skills Matched']} skills.\"\n",
    "    return fig, info\n",
    "\n",
    "if __name__ == '__main__':\n",
    "    app.run(debug=True)\n",
    "\n"
   ]
  },
  {
   "cell_type": "markdown",
   "metadata": {},
   "source": [
    "RESUME SCREENING REPORT GENERATION"
   ]
  },
  {
   "cell_type": "code",
   "execution_count": 14,
   "metadata": {},
   "outputs": [
    {
     "name": "stdout",
     "output_type": "stream",
     "text": [
      "PDF saved as resume_screening_report.pdf\n"
     ]
    }
   ],
   "source": [
    "from fpdf import FPDF\n",
    "\n",
    "def generate_pdf(df, filename=\"resume_screening_report.pdf\"):\n",
    "    pdf = FPDF()\n",
    "    pdf.set_auto_page_break(auto=True, margin=15)\n",
    "    pdf.add_page()\n",
    "    pdf.set_font(\"Arial\", \"B\", 16)\n",
    "    pdf.cell(200, 10, \"Resume Screening Report\", ln=True, align=\"C\")\n",
    "    pdf.ln(10)\n",
    "\n",
    "    pdf.set_font(\"Arial\", size=12)\n",
    "    for i, row in df.iterrows():\n",
    "        pdf.cell(200, 10, f\"{row['Candidate']} - Score: {row['Score']}\", ln=True)\n",
    "    \n",
    "    pdf.output(filename)\n",
    "    print(f\"PDF saved as {filename}\")\n",
    "\n",
    "# Example Usage\n",
    "generate_pdf(df)\n"
   ]
  },
  {
   "cell_type": "markdown",
   "metadata": {},
   "source": [
    "CONVERTED TO EXCEL"
   ]
  },
  {
   "cell_type": "code",
   "execution_count": 15,
   "metadata": {},
   "outputs": [
    {
     "name": "stdout",
     "output_type": "stream",
     "text": [
      "Excel file saved as resume_screening_results.xlsx\n"
     ]
    }
   ],
   "source": [
    "df.to_excel(\"resume_screening_results.xlsx\", index=False)\n",
    "print(\"Excel file saved as resume_screening_results.xlsx\")\n"
   ]
  },
  {
   "cell_type": "markdown",
   "metadata": {},
   "source": [
    "VIEWING THE EXCEL DETAILS"
   ]
  },
  {
   "cell_type": "code",
   "execution_count": 16,
   "metadata": {},
   "outputs": [
    {
     "name": "stdout",
     "output_type": "stream",
     "text": [
      "  Candidate  Score  Skills Matched\n",
      "0     Alice     95               7\n",
      "1       Bob     90               6\n",
      "2   Charlie     85               5\n",
      "3     David     80               4\n"
     ]
    }
   ],
   "source": [
    "import pandas as pd\n",
    "\n",
    "try:\n",
    "    df = pd.read_excel(\"resume_screening_results.xlsx\")\n",
    "    print(df.head()) \n",
    "except Exception as e:\n",
    "    print(\"Error reading the file:\", e)\n"
   ]
  },
  {
   "cell_type": "markdown",
   "metadata": {},
   "source": [
    "SENDING MAIL TO THE SELECTED CANDIDATE"
   ]
  },
  {
   "cell_type": "code",
   "execution_count": 21,
   "metadata": {},
   "outputs": [
    {
     "name": "stdout",
     "output_type": "stream",
     "text": [
      "Email sent to prithikavinodkumaar@gmail.com\n"
     ]
    }
   ],
   "source": [
    "import smtplib\n",
    "from email.mime.text import MIMEText\n",
    "from email.mime.multipart import MIMEMultipart\n",
    "\n",
    "# Your email credentials\n",
    "EMAIL = \"shurajpranuv@gmail.com\"\n",
    "PASSWORD = \"hjbw izof mhkd enuv\"\n",
    "\n",
    "def send_email(candidate_email, candidate_name, score):\n",
    "    subject = \"Congratulations! You are shortlisted\"\n",
    "    body = f\"Dear {candidate_name},\\n\\nCongratulations! You have been shortlisted with a score of {score}.\\n\\nBest Regards,\\nRecruitment Team\"\n",
    "\n",
    "    msg = MIMEMultipart()\n",
    "    msg[\"From\"] = EMAIL\n",
    "    msg[\"To\"] = candidate_email\n",
    "    msg[\"Subject\"] = subject\n",
    "    msg.attach(MIMEText(body, \"plain\"))\n",
    "\n",
    "    try:\n",
    "        server = smtplib.SMTP(\"smtp.gmail.com\", 587)\n",
    "        server.starttls()\n",
    "        server.login(EMAIL, PASSWORD)\n",
    "        server.sendmail(EMAIL, candidate_email, msg.as_string())\n",
    "        server.quit()\n",
    "        print(f\"Email sent to {candidate_email}\")\n",
    "    except Exception as e:\n",
    "        print(f\"Error sending email: {e}\")\n",
    "\n",
    "# Example Usage\n",
    "send_email(\"shurajpranuv@gmail.com\", \"Alice\", 95)\n"
   ]
  }
 ],
 "metadata": {
  "kernelspec": {
   "display_name": "Python 3",
   "language": "python",
   "name": "python3"
  },
  "language_info": {
   "codemirror_mode": {
    "name": "ipython",
    "version": 3
   },
   "file_extension": ".py",
   "mimetype": "text/x-python",
   "name": "python",
   "nbconvert_exporter": "python",
   "pygments_lexer": "ipython3",
   "version": "3.7.3"
  }
 },
 "nbformat": 4,
 "nbformat_minor": 5
}
